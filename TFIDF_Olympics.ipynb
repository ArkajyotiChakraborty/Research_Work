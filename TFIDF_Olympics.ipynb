{
  "nbformat": 4,
  "nbformat_minor": 0,
  "metadata": {
    "colab": {
      "name": "TFIDF_Olympics.ipynb",
      "provenance": []
    },
    "kernelspec": {
      "name": "python3",
      "display_name": "Python 3"
    },
    "language_info": {
      "name": "python"
    }
  },
  "cells": [
    {
      "cell_type": "code",
      "metadata": {
        "id": "saCVvoSFKrbo"
      },
      "source": [
        "import pandas as pd\n",
        "import numpy as np"
      ],
      "execution_count": 1,
      "outputs": []
    },
    {
      "cell_type": "code",
      "metadata": {
        "colab": {
          "base_uri": "https://localhost:8080/",
          "height": 418
        },
        "id": "7mAtDZxeLRTV",
        "outputId": "8c7b5d72-eb8f-4e37-8a49-ab040b3b2d1d"
      },
      "source": [
        "df = pd.read_csv('Processed_Data.csv',lineterminator='\\n')\n",
        "df"
      ],
      "execution_count": 2,
      "outputs": [
        {
          "output_type": "execute_result",
          "data": {
            "text/html": [
              "<div>\n",
              "<style scoped>\n",
              "    .dataframe tbody tr th:only-of-type {\n",
              "        vertical-align: middle;\n",
              "    }\n",
              "\n",
              "    .dataframe tbody tr th {\n",
              "        vertical-align: top;\n",
              "    }\n",
              "\n",
              "    .dataframe thead th {\n",
              "        text-align: right;\n",
              "    }\n",
              "</style>\n",
              "<table border=\"1\" class=\"dataframe\">\n",
              "  <thead>\n",
              "    <tr style=\"text-align: right;\">\n",
              "      <th></th>\n",
              "      <th>Unnamed: 0</th>\n",
              "      <th>topic</th>\n",
              "      <th>tweet</th>\n",
              "      <th>sentiment</th>\n",
              "      <th>class</th>\n",
              "      <th>processed_tweets</th>\n",
              "    </tr>\n",
              "  </thead>\n",
              "  <tbody>\n",
              "    <tr>\n",
              "      <th>0</th>\n",
              "      <td>0</td>\n",
              "      <td>#olympics</td>\n",
              "      <td>Aussies would be happy that the T20 series hap...</td>\n",
              "      <td>0.275000</td>\n",
              "      <td>Positive</td>\n",
              "      <td>aussie would happy series happen midst olympic...</td>\n",
              "    </tr>\n",
              "    <tr>\n",
              "      <th>1</th>\n",
              "      <td>1</td>\n",
              "      <td>#olympics</td>\n",
              "      <td>The worst thing about the #Olympics finishing ...</td>\n",
              "      <td>-0.133333</td>\n",
              "      <td>Negative</td>\n",
              "      <td>worst thing olympics finish whole week availab...</td>\n",
              "    </tr>\n",
              "    <tr>\n",
              "      <th>2</th>\n",
              "      <td>2</td>\n",
              "      <td>#olympics</td>\n",
              "      <td>#Olympics\\n\\nWe play for India: #Hockey captai...</td>\n",
              "      <td>0.000000</td>\n",
              "      <td>Neutral</td>\n",
              "      <td>olympics play india hockey captain ranirampal ...</td>\n",
              "    </tr>\n",
              "    <tr>\n",
              "      <th>3</th>\n",
              "      <td>3</td>\n",
              "      <td>#olympics</td>\n",
              "      <td>See the best moments from the #Tokyo2020 closi...</td>\n",
              "      <td>1.000000</td>\n",
              "      <td>Positive</td>\n",
              "      <td>see best moment tokyo close ceremony videoelep...</td>\n",
              "    </tr>\n",
              "    <tr>\n",
              "      <th>4</th>\n",
              "      <td>4</td>\n",
              "      <td>#olympics</td>\n",
              "      <td>Fabulous! #Olympics \\n#LoveTheBBC \\n\\nTokyo Ol...</td>\n",
              "      <td>0.500000</td>\n",
              "      <td>Positive</td>\n",
              "      <td>fabulous olympics lovethebbc tokyo olympics bb...</td>\n",
              "    </tr>\n",
              "    <tr>\n",
              "      <th>...</th>\n",
              "      <td>...</td>\n",
              "      <td>...</td>\n",
              "      <td>...</td>\n",
              "      <td>...</td>\n",
              "      <td>...</td>\n",
              "      <td>...</td>\n",
              "    </tr>\n",
              "    <tr>\n",
              "      <th>140242</th>\n",
              "      <td>140242</td>\n",
              "      <td>Tokyo olympics</td>\n",
              "      <td>Congratulations to all our winners and partici...</td>\n",
              "      <td>0.500000</td>\n",
              "      <td>Positive</td>\n",
              "      <td>congratulation winner participant olympics win...</td>\n",
              "    </tr>\n",
              "    <tr>\n",
              "      <th>140243</th>\n",
              "      <td>140243</td>\n",
              "      <td>Tokyo olympics</td>\n",
              "      <td>I hope that I am wrong but I have seen no twee...</td>\n",
              "      <td>-0.500000</td>\n",
              "      <td>Negative</td>\n",
              "      <td>hope wrong see tweet government</td>\n",
              "    </tr>\n",
              "    <tr>\n",
              "      <th>140244</th>\n",
              "      <td>140244</td>\n",
              "      <td>Tokyo olympics</td>\n",
              "      <td>Tokyo passes the baton to Paris as strangest e...</td>\n",
              "      <td>0.000000</td>\n",
              "      <td>Neutral</td>\n",
              "      <td>tokyo pass baton paris strangest ever olympic ...</td>\n",
              "    </tr>\n",
              "    <tr>\n",
              "      <th>140245</th>\n",
              "      <td>140245</td>\n",
              "      <td>Tokyo olympics</td>\n",
              "      <td>Paris plans to deliver inclusive, youth-centre...</td>\n",
              "      <td>0.000000</td>\n",
              "      <td>Neutral</td>\n",
              "      <td>paris plan deliver inclusive youth centre gend...</td>\n",
              "    </tr>\n",
              "    <tr>\n",
              "      <th>140246</th>\n",
              "      <td>140246</td>\n",
              "      <td>Tokyo olympics</td>\n",
              "      <td>Tokyo Games could yet have positive legacy des...</td>\n",
              "      <td>0.413636</td>\n",
              "      <td>Positive</td>\n",
              "      <td>tokyo game could yet positive legacy despite u...</td>\n",
              "    </tr>\n",
              "  </tbody>\n",
              "</table>\n",
              "<p>140247 rows × 6 columns</p>\n",
              "</div>"
            ],
            "text/plain": [
              "        Unnamed: 0  ...                                   processed_tweets\n",
              "0                0  ...  aussie would happy series happen midst olympic...\n",
              "1                1  ...  worst thing olympics finish whole week availab...\n",
              "2                2  ...  olympics play india hockey captain ranirampal ...\n",
              "3                3  ...  see best moment tokyo close ceremony videoelep...\n",
              "4                4  ...  fabulous olympics lovethebbc tokyo olympics bb...\n",
              "...            ...  ...                                                ...\n",
              "140242      140242  ...  congratulation winner participant olympics win...\n",
              "140243      140243  ...                    hope wrong see tweet government\n",
              "140244      140244  ...  tokyo pass baton paris strangest ever olympic ...\n",
              "140245      140245  ...  paris plan deliver inclusive youth centre gend...\n",
              "140246      140246  ...  tokyo game could yet positive legacy despite u...\n",
              "\n",
              "[140247 rows x 6 columns]"
            ]
          },
          "metadata": {
            "tags": []
          },
          "execution_count": 2
        }
      ]
    },
    {
      "cell_type": "code",
      "metadata": {
        "colab": {
          "base_uri": "https://localhost:8080/"
        },
        "id": "t8v0OruNNTcH",
        "outputId": "cac65aef-a7df-4f29-8880-c991411a254a"
      },
      "source": [
        "x = df['processed_tweets']\n",
        "x.shape"
      ],
      "execution_count": 10,
      "outputs": [
        {
          "output_type": "execute_result",
          "data": {
            "text/plain": [
              "(140247,)"
            ]
          },
          "metadata": {
            "tags": []
          },
          "execution_count": 10
        }
      ]
    },
    {
      "cell_type": "code",
      "metadata": {
        "colab": {
          "base_uri": "https://localhost:8080/"
        },
        "id": "raeOtZ3WOrsn",
        "outputId": "f2bcf760-0764-46fd-99dd-7ab081b3dd7e"
      },
      "source": [
        "y = df['class']\n",
        "y"
      ],
      "execution_count": 11,
      "outputs": [
        {
          "output_type": "execute_result",
          "data": {
            "text/plain": [
              "0         Positive\n",
              "1         Negative\n",
              "2          Neutral\n",
              "3         Positive\n",
              "4         Positive\n",
              "            ...   \n",
              "140242    Positive\n",
              "140243    Negative\n",
              "140244     Neutral\n",
              "140245     Neutral\n",
              "140246    Positive\n",
              "Name: class, Length: 140247, dtype: object"
            ]
          },
          "metadata": {
            "tags": []
          },
          "execution_count": 11
        }
      ]
    },
    {
      "cell_type": "code",
      "metadata": {
        "id": "UEg9Qk_nOwAL"
      },
      "source": [
        "from sklearn.feature_extraction.text import TfidfVectorizer\n",
        "from sklearn.linear_model import LogisticRegression\n",
        "from sklearn.metrics import classification_report\n",
        "from sklearn.svm import LinearSVC\n",
        "from sklearn.svm import SVC\n",
        "from sklearn.linear_model import SGDClassifier\n",
        "from sklearn.model_selection import train_test_split as tts\n",
        "from sklearn.metrics import confusion_matrix, accuracy_score"
      ],
      "execution_count": 12,
      "outputs": []
    },
    {
      "cell_type": "code",
      "metadata": {
        "id": "hK0hor6FQP7j"
      },
      "source": [
        "x = x.apply(lambda x: np.str_(x))"
      ],
      "execution_count": 13,
      "outputs": []
    },
    {
      "cell_type": "code",
      "metadata": {
        "colab": {
          "base_uri": "https://localhost:8080/"
        },
        "id": "4AwJqvYXPolT",
        "outputId": "6b10c3e4-7756-456d-9a42-d0ee09f102b4"
      },
      "source": [
        "vectorizer = TfidfVectorizer(max_features = 1000 )\n",
        "# tokenize and build vocab\n",
        "\n",
        "vectorizer.fit(x)\n",
        "# summarize\n",
        "\n",
        "print(len(vectorizer.vocabulary_))\n",
        "print(vectorizer.idf_.shape)"
      ],
      "execution_count": 14,
      "outputs": [
        {
          "output_type": "stream",
          "text": [
            "1000\n",
            "(1000,)\n"
          ],
          "name": "stdout"
        }
      ]
    },
    {
      "cell_type": "code",
      "metadata": {
        "colab": {
          "base_uri": "https://localhost:8080/"
        },
        "id": "ttwuCqpDQJDn",
        "outputId": "dff947a6-1a94-47d3-ebc1-50df9194c280"
      },
      "source": [
        "x_tfidf = vectorizer.transform(x).toarray()\n",
        "print(x_tfidf.shape)"
      ],
      "execution_count": 15,
      "outputs": [
        {
          "output_type": "stream",
          "text": [
            "(140247, 1000)\n"
          ],
          "name": "stdout"
        }
      ]
    },
    {
      "cell_type": "code",
      "metadata": {
        "colab": {
          "base_uri": "https://localhost:8080/"
        },
        "id": "dDBFnpofQda8",
        "outputId": "c0766eaa-ea10-41d4-c607-a9651385754d"
      },
      "source": [
        "x_train,x_test,y_train,y_test = tts(x_tfidf,y,test_size = 0.05)\n",
        "print(x_train.shape)\n",
        "print(x_test.shape)\n",
        "print(y_train.shape)\n",
        "print(y_test.shape)"
      ],
      "execution_count": 16,
      "outputs": [
        {
          "output_type": "stream",
          "text": [
            "(133234, 1000)\n",
            "(7013, 1000)\n",
            "(133234,)\n",
            "(7013,)\n"
          ],
          "name": "stdout"
        }
      ]
    },
    {
      "cell_type": "markdown",
      "metadata": {
        "id": "hdF2p8ZXUN91"
      },
      "source": [
        "Linear SVM"
      ]
    },
    {
      "cell_type": "code",
      "metadata": {
        "colab": {
          "base_uri": "https://localhost:8080/"
        },
        "id": "e7OxafO5QfGA",
        "outputId": "8d2188fa-7320-40aa-ded7-f60ba07548d1"
      },
      "source": [
        "svm_model = LinearSVC(class_weight='balanced',multi_class='crammer_singer',max_iter = -1).fit(x_train, y_train)\n",
        "svm_model_predict = svm_model.predict(x_test)\n",
        "svm_report = classification_report(y_test, svm_model_predict )\n",
        "print(svm_report)"
      ],
      "execution_count": 10,
      "outputs": [
        {
          "output_type": "stream",
          "text": [
            "/usr/local/lib/python3.7/dist-packages/sklearn/svm/_base.py:947: ConvergenceWarning: Liblinear failed to converge, increase the number of iterations.\n",
            "  \"the number of iterations.\", ConvergenceWarning)\n"
          ],
          "name": "stderr"
        },
        {
          "output_type": "stream",
          "text": [
            "              precision    recall  f1-score   support\n",
            "\n",
            "    Negative       0.53      0.61      0.57       762\n",
            "     Neutral       0.80      0.89      0.84      2924\n",
            "    Positive       0.94      0.82      0.87      3327\n",
            "\n",
            "    accuracy                           0.82      7013\n",
            "   macro avg       0.76      0.77      0.76      7013\n",
            "weighted avg       0.84      0.82      0.83      7013\n",
            "\n"
          ],
          "name": "stdout"
        }
      ]
    },
    {
      "cell_type": "markdown",
      "metadata": {
        "id": "c4Kqo6ykUREM"
      },
      "source": [
        "Logistic Regression"
      ]
    },
    {
      "cell_type": "code",
      "metadata": {
        "colab": {
          "base_uri": "https://localhost:8080/"
        },
        "id": "Ex-7wpHoQ1Xc",
        "outputId": "f2b71f27-14ec-467e-f893-fd2b15269e6a"
      },
      "source": [
        "logistic_reg_model = LogisticRegression(n_jobs = -1, penalty='l2', multi_class='multinomial',class_weight = 'balanced',verbose=1).fit(x_train,y_train)\n",
        "lr_model_predict = logistic_reg_model.predict(x_test)\n",
        "lr_model_report = classification_report(y_test, lr_model_predict)\n",
        "print(lr_model_report)"
      ],
      "execution_count": 11,
      "outputs": [
        {
          "output_type": "stream",
          "text": [
            "[Parallel(n_jobs=-1)]: Using backend LokyBackend with 2 concurrent workers.\n",
            "[Parallel(n_jobs=-1)]: Done   1 out of   1 | elapsed:  1.6min finished\n"
          ],
          "name": "stderr"
        },
        {
          "output_type": "stream",
          "text": [
            "              precision    recall  f1-score   support\n",
            "\n",
            "    Negative       0.48      0.64      0.55       762\n",
            "     Neutral       0.80      0.86      0.83      2924\n",
            "    Positive       0.94      0.81      0.87      3327\n",
            "\n",
            "    accuracy                           0.81      7013\n",
            "   macro avg       0.74      0.77      0.75      7013\n",
            "weighted avg       0.83      0.81      0.82      7013\n",
            "\n"
          ],
          "name": "stdout"
        }
      ]
    },
    {
      "cell_type": "markdown",
      "metadata": {
        "id": "WB86Dc6EUT6d"
      },
      "source": [
        "Decision Tree"
      ]
    },
    {
      "cell_type": "code",
      "metadata": {
        "colab": {
          "base_uri": "https://localhost:8080/"
        },
        "id": "XxILsO4nR3-T",
        "outputId": "e16029de-c309-40d7-dc87-4f4fa4e01663"
      },
      "source": [
        "from sklearn.tree import DecisionTreeClassifier\n",
        "dct = DecisionTreeClassifier(criterion='entropy', random_state=1)\n",
        "decision_tree_model = dct.fit(x_train,y_train)\n",
        "decision_tree_model_predict = decision_tree_model.predict(x_test)\n",
        "decision_tree_report = classification_report(y_test,decision_tree_model_predict)\n",
        "print(decision_tree_report)"
      ],
      "execution_count": 12,
      "outputs": [
        {
          "output_type": "stream",
          "text": [
            "              precision    recall  f1-score   support\n",
            "\n",
            "    Negative       0.65      0.62      0.64       762\n",
            "     Neutral       0.84      0.87      0.86      2924\n",
            "    Positive       0.90      0.88      0.89      3327\n",
            "\n",
            "    accuracy                           0.85      7013\n",
            "   macro avg       0.80      0.79      0.79      7013\n",
            "weighted avg       0.85      0.85      0.85      7013\n",
            "\n"
          ],
          "name": "stdout"
        }
      ]
    },
    {
      "cell_type": "markdown",
      "metadata": {
        "id": "3ajgynLMUV_f"
      },
      "source": [
        "Random Forest"
      ]
    },
    {
      "cell_type": "code",
      "metadata": {
        "colab": {
          "base_uri": "https://localhost:8080/"
        },
        "id": "e-ADB7R4UYCW",
        "outputId": "3efaf2be-9c79-4b24-d29a-9eeef7c5dfa9"
      },
      "source": [
        "from sklearn.ensemble import RandomForestClassifier\n",
        "clf = RandomForestClassifier(n_estimators=20)\n",
        "random_forest_model = clf.fit(x_train,y_train)\n",
        "random_forest_model_predict = random_forest_model.predict(x_test)\n",
        "random_forest_report = classification_report(y_test,random_forest_model_predict)\n",
        "print(random_forest_report)"
      ],
      "execution_count": 13,
      "outputs": [
        {
          "output_type": "stream",
          "text": [
            "              precision    recall  f1-score   support\n",
            "\n",
            "    Negative       0.87      0.60      0.71       762\n",
            "     Neutral       0.84      0.95      0.89      2924\n",
            "    Positive       0.94      0.90      0.92      3327\n",
            "\n",
            "    accuracy                           0.89      7013\n",
            "   macro avg       0.88      0.82      0.84      7013\n",
            "weighted avg       0.89      0.89      0.88      7013\n",
            "\n"
          ],
          "name": "stdout"
        }
      ]
    },
    {
      "cell_type": "markdown",
      "metadata": {
        "id": "cNd3YlfIVVN2"
      },
      "source": [
        "Multi-class Naive Bayes"
      ]
    },
    {
      "cell_type": "code",
      "metadata": {
        "colab": {
          "base_uri": "https://localhost:8080/"
        },
        "id": "JoM-dwtoVSae",
        "outputId": "05f5c806-abd4-4f78-cf57-c435e526bb4f"
      },
      "source": [
        "from sklearn.naive_bayes import MultinomialNB\n",
        "model = MultinomialNB()\n",
        "naive_bayes_model = model.fit(x_train,y_train)\n",
        "naive_bayes_model_predict = naive_bayes_model.predict(x_test)\n",
        "naive_bayes_report = classification_report(y_test,naive_bayes_model_predict)\n",
        "print(naive_bayes_report)"
      ],
      "execution_count": 14,
      "outputs": [
        {
          "output_type": "stream",
          "text": [
            "              precision    recall  f1-score   support\n",
            "\n",
            "    Negative       0.86      0.20      0.33       762\n",
            "     Neutral       0.76      0.79      0.78      2924\n",
            "    Positive       0.76      0.87      0.81      3327\n",
            "\n",
            "    accuracy                           0.77      7013\n",
            "   macro avg       0.80      0.62      0.64      7013\n",
            "weighted avg       0.77      0.77      0.75      7013\n",
            "\n"
          ],
          "name": "stdout"
        }
      ]
    },
    {
      "cell_type": "markdown",
      "metadata": {
        "id": "AX-v-J2zFtjp"
      },
      "source": [
        "# **Boosting Techniques**"
      ]
    },
    {
      "cell_type": "markdown",
      "metadata": {
        "id": "bCJUVyfwIC-Y"
      },
      "source": [
        "Adaboost\n"
      ]
    },
    {
      "cell_type": "code",
      "metadata": {
        "colab": {
          "base_uri": "https://localhost:8080/"
        },
        "id": "I0V6h5AUD0pE",
        "outputId": "650ae35b-c6d6-4c3c-a14c-201ed57c732f"
      },
      "source": [
        "from sklearn.ensemble import AdaBoostClassifier\n",
        "from sklearn.tree import DecisionTreeClassifier\n",
        "dt = DecisionTreeClassifier() \n",
        "clf = AdaBoostClassifier(n_estimators=100, base_estimator=dt,learning_rate=1)\n",
        "# training the model\n",
        "clf.fit(x_train,y_train)\n",
        "adaboost_model_predict = clf.predict(x_test)\n",
        "adaboost_model_report = classification_report(y_test, adaboost_model_predict)\n",
        "print(adaboost_model_report)"
      ],
      "execution_count": 28,
      "outputs": [
        {
          "output_type": "stream",
          "text": [
            "              precision    recall  f1-score   support\n",
            "\n",
            "    Negative       0.74      0.55      0.63       733\n",
            "     Neutral       0.81      0.86      0.84      2838\n",
            "    Positive       0.86      0.86      0.86      3442\n",
            "\n",
            "    accuracy                           0.83      7013\n",
            "   macro avg       0.81      0.76      0.78      7013\n",
            "weighted avg       0.83      0.83      0.83      7013\n",
            "\n"
          ],
          "name": "stdout"
        }
      ]
    },
    {
      "cell_type": "markdown",
      "metadata": {
        "id": "HDaFO3nEPw5w"
      },
      "source": [
        "XGboosting"
      ]
    },
    {
      "cell_type": "code",
      "metadata": {
        "colab": {
          "base_uri": "https://localhost:8080/"
        },
        "id": "6kD5JrCjPwIZ",
        "outputId": "f4b4eb61-1207-4f1b-fc19-b7c8416dbc97"
      },
      "source": [
        "from xgboost import XGBClassifier\n",
        "model = XGBClassifier()\n",
        "xgboost_model = model.fit(x_train, y_train)\n",
        "xgboost_model_predict = xgboost_model.predict(x_test)\n",
        "xgboost_model_report = classification_report(y_test,xgboost_model_predict)\n",
        "print(xgboost_model_report)"
      ],
      "execution_count": 31,
      "outputs": [
        {
          "output_type": "stream",
          "text": [
            "              precision    recall  f1-score   support\n",
            "\n",
            "    Negative       0.87      0.16      0.27       733\n",
            "     Neutral       0.63      0.97      0.76      2838\n",
            "    Positive       0.92      0.68      0.79      3442\n",
            "\n",
            "    accuracy                           0.74      7013\n",
            "   macro avg       0.81      0.60      0.61      7013\n",
            "weighted avg       0.80      0.74      0.72      7013\n",
            "\n"
          ],
          "name": "stdout"
        }
      ]
    }
  ]
}