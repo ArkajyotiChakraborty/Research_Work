{
  "nbformat": 4,
  "nbformat_minor": 0,
  "metadata": {
    "colab": {
      "name": "CNN+LSTM.ipynb",
      "provenance": []
    },
    "kernelspec": {
      "name": "python3",
      "display_name": "Python 3"
    },
    "language_info": {
      "name": "python"
    },
    "accelerator": "GPU"
  },
  "cells": [
    {
      "cell_type": "code",
      "metadata": {
        "id": "CfBs2qsbzKWE",
        "colab": {
          "base_uri": "https://localhost:8080/",
          "height": 17
        },
        "outputId": "e795982f-6dbe-42ac-fd4f-bd3ee389b07a"
      },
      "source": [
        "# Keras\n",
        "from keras.preprocessing.text import Tokenizer\n",
        "from keras.preprocessing.sequence import pad_sequences\n",
        "from keras.models import Sequential\n",
        "from keras.layers import Dense, Flatten, LSTM, Conv1D, MaxPooling1D, Dropout, Activation\n",
        "from keras.layers.embeddings import Embedding\n",
        "\n",
        "## Plot\n",
        "import plotly.offline as py\n",
        "import plotly.graph_objs as go\n",
        "py.init_notebook_mode(connected=True)\n",
        "import matplotlib as plt\n",
        "\n",
        "# NLTK\n",
        "import nltk\n",
        "from nltk.corpus import stopwords\n",
        "from nltk.stem import SnowballStemmer\n",
        "\n",
        "# Other\n",
        "import re\n",
        "import string\n",
        "import numpy as np\n",
        "import pandas as pd\n",
        "from sklearn.manifold import TSNE"
      ],
      "execution_count": 1,
      "outputs": [
        {
          "output_type": "display_data",
          "data": {
            "text/html": [
              "        <script type=\"text/javascript\">\n",
              "        window.PlotlyConfig = {MathJaxConfig: 'local'};\n",
              "        if (window.MathJax) {MathJax.Hub.Config({SVG: {font: \"STIX-Web\"}});}\n",
              "        if (typeof require !== 'undefined') {\n",
              "        require.undef(\"plotly\");\n",
              "        requirejs.config({\n",
              "            paths: {\n",
              "                'plotly': ['https://cdn.plot.ly/plotly-latest.min']\n",
              "            }\n",
              "        });\n",
              "        require(['plotly'], function(Plotly) {\n",
              "            window._Plotly = Plotly;\n",
              "        });\n",
              "        }\n",
              "        </script>\n",
              "        "
            ]
          },
          "metadata": {}
        }
      ]
    },
    {
      "cell_type": "code",
      "metadata": {
        "colab": {
          "base_uri": "https://localhost:8080/",
          "height": 418
        },
        "id": "Tn-mrngZvp41",
        "outputId": "4169ac83-9580-45fb-efdc-696450c01d4f"
      },
      "source": [
        "df = pd.read_csv('Processed_Data.csv',lineterminator='\\n')\n",
        "df"
      ],
      "execution_count": 2,
      "outputs": [
        {
          "output_type": "execute_result",
          "data": {
            "text/html": [
              "<div>\n",
              "<style scoped>\n",
              "    .dataframe tbody tr th:only-of-type {\n",
              "        vertical-align: middle;\n",
              "    }\n",
              "\n",
              "    .dataframe tbody tr th {\n",
              "        vertical-align: top;\n",
              "    }\n",
              "\n",
              "    .dataframe thead th {\n",
              "        text-align: right;\n",
              "    }\n",
              "</style>\n",
              "<table border=\"1\" class=\"dataframe\">\n",
              "  <thead>\n",
              "    <tr style=\"text-align: right;\">\n",
              "      <th></th>\n",
              "      <th>Unnamed: 0</th>\n",
              "      <th>topic</th>\n",
              "      <th>tweet</th>\n",
              "      <th>sentiment</th>\n",
              "      <th>class</th>\n",
              "      <th>processed_tweets</th>\n",
              "    </tr>\n",
              "  </thead>\n",
              "  <tbody>\n",
              "    <tr>\n",
              "      <th>0</th>\n",
              "      <td>0</td>\n",
              "      <td>#olympics</td>\n",
              "      <td>Aussies would be happy that the T20 series hap...</td>\n",
              "      <td>0.275000</td>\n",
              "      <td>Positive</td>\n",
              "      <td>aussie would happy series happen midst olympic...</td>\n",
              "    </tr>\n",
              "    <tr>\n",
              "      <th>1</th>\n",
              "      <td>1</td>\n",
              "      <td>#olympics</td>\n",
              "      <td>The worst thing about the #Olympics finishing ...</td>\n",
              "      <td>-0.133333</td>\n",
              "      <td>Negative</td>\n",
              "      <td>worst thing olympics finish whole week availab...</td>\n",
              "    </tr>\n",
              "    <tr>\n",
              "      <th>2</th>\n",
              "      <td>2</td>\n",
              "      <td>#olympics</td>\n",
              "      <td>#Olympics\\n\\nWe play for India: #Hockey captai...</td>\n",
              "      <td>0.000000</td>\n",
              "      <td>Neutral</td>\n",
              "      <td>olympics play india hockey captain ranirampal ...</td>\n",
              "    </tr>\n",
              "    <tr>\n",
              "      <th>3</th>\n",
              "      <td>3</td>\n",
              "      <td>#olympics</td>\n",
              "      <td>See the best moments from the #Tokyo2020 closi...</td>\n",
              "      <td>1.000000</td>\n",
              "      <td>Positive</td>\n",
              "      <td>see best moment tokyo close ceremony videoelep...</td>\n",
              "    </tr>\n",
              "    <tr>\n",
              "      <th>4</th>\n",
              "      <td>4</td>\n",
              "      <td>#olympics</td>\n",
              "      <td>Fabulous! #Olympics \\n#LoveTheBBC \\n\\nTokyo Ol...</td>\n",
              "      <td>0.500000</td>\n",
              "      <td>Positive</td>\n",
              "      <td>fabulous olympics lovethebbc tokyo olympics bb...</td>\n",
              "    </tr>\n",
              "    <tr>\n",
              "      <th>...</th>\n",
              "      <td>...</td>\n",
              "      <td>...</td>\n",
              "      <td>...</td>\n",
              "      <td>...</td>\n",
              "      <td>...</td>\n",
              "      <td>...</td>\n",
              "    </tr>\n",
              "    <tr>\n",
              "      <th>140242</th>\n",
              "      <td>140242</td>\n",
              "      <td>Tokyo olympics</td>\n",
              "      <td>Congratulations to all our winners and partici...</td>\n",
              "      <td>0.500000</td>\n",
              "      <td>Positive</td>\n",
              "      <td>congratulation winner participant olympics win...</td>\n",
              "    </tr>\n",
              "    <tr>\n",
              "      <th>140243</th>\n",
              "      <td>140243</td>\n",
              "      <td>Tokyo olympics</td>\n",
              "      <td>I hope that I am wrong but I have seen no twee...</td>\n",
              "      <td>-0.500000</td>\n",
              "      <td>Negative</td>\n",
              "      <td>hope wrong see tweet government</td>\n",
              "    </tr>\n",
              "    <tr>\n",
              "      <th>140244</th>\n",
              "      <td>140244</td>\n",
              "      <td>Tokyo olympics</td>\n",
              "      <td>Tokyo passes the baton to Paris as strangest e...</td>\n",
              "      <td>0.000000</td>\n",
              "      <td>Neutral</td>\n",
              "      <td>tokyo pass baton paris strangest ever olympic ...</td>\n",
              "    </tr>\n",
              "    <tr>\n",
              "      <th>140245</th>\n",
              "      <td>140245</td>\n",
              "      <td>Tokyo olympics</td>\n",
              "      <td>Paris plans to deliver inclusive, youth-centre...</td>\n",
              "      <td>0.000000</td>\n",
              "      <td>Neutral</td>\n",
              "      <td>paris plan deliver inclusive youth centre gend...</td>\n",
              "    </tr>\n",
              "    <tr>\n",
              "      <th>140246</th>\n",
              "      <td>140246</td>\n",
              "      <td>Tokyo olympics</td>\n",
              "      <td>Tokyo Games could yet have positive legacy des...</td>\n",
              "      <td>0.413636</td>\n",
              "      <td>Positive</td>\n",
              "      <td>tokyo game could yet positive legacy despite u...</td>\n",
              "    </tr>\n",
              "  </tbody>\n",
              "</table>\n",
              "<p>140247 rows × 6 columns</p>\n",
              "</div>"
            ],
            "text/plain": [
              "        Unnamed: 0  ...                                   processed_tweets\n",
              "0                0  ...  aussie would happy series happen midst olympic...\n",
              "1                1  ...  worst thing olympics finish whole week availab...\n",
              "2                2  ...  olympics play india hockey captain ranirampal ...\n",
              "3                3  ...  see best moment tokyo close ceremony videoelep...\n",
              "4                4  ...  fabulous olympics lovethebbc tokyo olympics bb...\n",
              "...            ...  ...                                                ...\n",
              "140242      140242  ...  congratulation winner participant olympics win...\n",
              "140243      140243  ...                    hope wrong see tweet government\n",
              "140244      140244  ...  tokyo pass baton paris strangest ever olympic ...\n",
              "140245      140245  ...  paris plan deliver inclusive youth centre gend...\n",
              "140246      140246  ...  tokyo game could yet positive legacy despite u...\n",
              "\n",
              "[140247 rows x 6 columns]"
            ]
          },
          "metadata": {},
          "execution_count": 2
        }
      ]
    },
    {
      "cell_type": "code",
      "metadata": {
        "id": "lAMW4_JszBX1"
      },
      "source": [
        "df = df.dropna()\n",
        "df = df[df['processed_tweets'].apply(lambda x: x !=\"\")]"
      ],
      "execution_count": 3,
      "outputs": []
    },
    {
      "cell_type": "code",
      "metadata": {
        "colab": {
          "base_uri": "https://localhost:8080/",
          "height": 296
        },
        "id": "ezFbIWaSzFYM",
        "outputId": "d8212307-7cf7-435a-a13e-d979f2d3d0f1"
      },
      "source": [
        "df.describe()"
      ],
      "execution_count": 4,
      "outputs": [
        {
          "output_type": "execute_result",
          "data": {
            "text/html": [
              "<div>\n",
              "<style scoped>\n",
              "    .dataframe tbody tr th:only-of-type {\n",
              "        vertical-align: middle;\n",
              "    }\n",
              "\n",
              "    .dataframe tbody tr th {\n",
              "        vertical-align: top;\n",
              "    }\n",
              "\n",
              "    .dataframe thead th {\n",
              "        text-align: right;\n",
              "    }\n",
              "</style>\n",
              "<table border=\"1\" class=\"dataframe\">\n",
              "  <thead>\n",
              "    <tr style=\"text-align: right;\">\n",
              "      <th></th>\n",
              "      <th>Unnamed: 0</th>\n",
              "      <th>sentiment</th>\n",
              "    </tr>\n",
              "  </thead>\n",
              "  <tbody>\n",
              "    <tr>\n",
              "      <th>count</th>\n",
              "      <td>139715.000000</td>\n",
              "      <td>139715.000000</td>\n",
              "    </tr>\n",
              "    <tr>\n",
              "      <th>mean</th>\n",
              "      <td>70096.224908</td>\n",
              "      <td>0.176834</td>\n",
              "    </tr>\n",
              "    <tr>\n",
              "      <th>std</th>\n",
              "      <td>40503.120258</td>\n",
              "      <td>0.317648</td>\n",
              "    </tr>\n",
              "    <tr>\n",
              "      <th>min</th>\n",
              "      <td>0.000000</td>\n",
              "      <td>-1.000000</td>\n",
              "    </tr>\n",
              "    <tr>\n",
              "      <th>25%</th>\n",
              "      <td>35003.500000</td>\n",
              "      <td>0.000000</td>\n",
              "    </tr>\n",
              "    <tr>\n",
              "      <th>50%</th>\n",
              "      <td>70027.000000</td>\n",
              "      <td>0.000000</td>\n",
              "    </tr>\n",
              "    <tr>\n",
              "      <th>75%</th>\n",
              "      <td>105194.500000</td>\n",
              "      <td>0.375000</td>\n",
              "    </tr>\n",
              "    <tr>\n",
              "      <th>max</th>\n",
              "      <td>140246.000000</td>\n",
              "      <td>1.000000</td>\n",
              "    </tr>\n",
              "  </tbody>\n",
              "</table>\n",
              "</div>"
            ],
            "text/plain": [
              "          Unnamed: 0      sentiment\n",
              "count  139715.000000  139715.000000\n",
              "mean    70096.224908       0.176834\n",
              "std     40503.120258       0.317648\n",
              "min         0.000000      -1.000000\n",
              "25%     35003.500000       0.000000\n",
              "50%     70027.000000       0.000000\n",
              "75%    105194.500000       0.375000\n",
              "max    140246.000000       1.000000"
            ]
          },
          "metadata": {},
          "execution_count": 4
        }
      ]
    },
    {
      "cell_type": "markdown",
      "metadata": {
        "id": "LvDaIMqX4uP2"
      },
      "source": [
        "converting the classes into mainly two category of Positive and Negetive. "
      ]
    },
    {
      "cell_type": "code",
      "metadata": {
        "id": "cQDu3IPF0cbY"
      },
      "source": [
        "def ratio(x):\n",
        "  if x=='Positive':\n",
        "    return 1\n",
        "  else:\n",
        "    return 0;"
      ],
      "execution_count": 5,
      "outputs": []
    },
    {
      "cell_type": "code",
      "metadata": {
        "colab": {
          "base_uri": "https://localhost:8080/"
        },
        "id": "0C-1HPTs0hLC",
        "outputId": "c2aa6218-0c04-4c53-84fc-5ab94ab84fb4"
      },
      "source": [
        "label = df['class'].apply(ratio)\n",
        "label"
      ],
      "execution_count": 6,
      "outputs": [
        {
          "output_type": "execute_result",
          "data": {
            "text/plain": [
              "0         1\n",
              "1         0\n",
              "2         0\n",
              "3         1\n",
              "4         1\n",
              "         ..\n",
              "140242    1\n",
              "140243    0\n",
              "140244    0\n",
              "140245    0\n",
              "140246    1\n",
              "Name: class, Length: 139715, dtype: int64"
            ]
          },
          "metadata": {},
          "execution_count": 6
        }
      ]
    },
    {
      "cell_type": "code",
      "metadata": {
        "id": "ujZjClUF431V"
      },
      "source": [
        "vocabulary_size = 20000\n",
        "tokenizer = Tokenizer(num_words= vocabulary_size)\n",
        "tokenizer.fit_on_texts(df['processed_tweets'])\n",
        "\n",
        "sequences = tokenizer.texts_to_sequences(df['processed_tweets'])\n",
        "data = pad_sequences(sequences, maxlen=50)"
      ],
      "execution_count": 7,
      "outputs": []
    },
    {
      "cell_type": "code",
      "metadata": {
        "colab": {
          "base_uri": "https://localhost:8080/"
        },
        "id": "wWD8TjP75E82",
        "outputId": "25792854-af21-41e7-8e1f-9416cb2ee835"
      },
      "source": [
        "print(data.shape)"
      ],
      "execution_count": 8,
      "outputs": [
        {
          "output_type": "stream",
          "name": "stdout",
          "text": [
            "(139715, 50)\n"
          ]
        }
      ]
    },
    {
      "cell_type": "markdown",
      "metadata": {
        "id": "bcDRFQe05S09"
      },
      "source": [
        "Building CNN+LSTM first. "
      ]
    },
    {
      "cell_type": "code",
      "metadata": {
        "id": "ofngO4_c5HxW"
      },
      "source": [
        "def create_conv_model():\n",
        "    model_conv = Sequential()\n",
        "    model_conv.add(Embedding(vocabulary_size, 100, input_length=50))\n",
        "    model_conv.add(Dropout(0.2))\n",
        "    model_conv.add(Conv1D(64, 5, activation='relu'))\n",
        "    model_conv.add(MaxPooling1D(pool_size=4))\n",
        "    model_conv.add(LSTM(100))\n",
        "    model_conv.add(Dense(1, activation='sigmoid'))\n",
        "    model_conv.compile(loss='binary_crossentropy', optimizer='adam', metrics=['accuracy'])\n",
        "    return model_conv"
      ],
      "execution_count": 22,
      "outputs": []
    },
    {
      "cell_type": "code",
      "metadata": {
        "colab": {
          "base_uri": "https://localhost:8080/"
        },
        "id": "58YnvpkR5YtG",
        "outputId": "3bee7180-372a-4c24-b35c-47d9634060d5"
      },
      "source": [
        "model_conv = create_conv_model()\n",
        "model_conv.fit(data, np.array(label), validation_split=0.4, epochs = 3)"
      ],
      "execution_count": 24,
      "outputs": [
        {
          "output_type": "stream",
          "name": "stdout",
          "text": [
            "Epoch 1/3\n",
            "2620/2620 [==============================] - 64s 14ms/step - loss: 0.3391 - accuracy: 0.8684 - val_loss: 0.3310 - val_accuracy: 0.8761\n",
            "Epoch 2/3\n",
            "2620/2620 [==============================] - 35s 13ms/step - loss: 0.2477 - accuracy: 0.9086 - val_loss: 0.3320 - val_accuracy: 0.8734\n",
            "Epoch 3/3\n",
            "2620/2620 [==============================] - 35s 13ms/step - loss: 0.1866 - accuracy: 0.9313 - val_loss: 0.3774 - val_accuracy: 0.8718\n"
          ]
        },
        {
          "output_type": "execute_result",
          "data": {
            "text/plain": [
              "<keras.callbacks.History at 0x7fd8a92f4710>"
            ]
          },
          "metadata": {},
          "execution_count": 24
        }
      ]
    }
  ]
}