{
  "nbformat": 4,
  "nbformat_minor": 0,
  "metadata": {
    "colab": {
      "name": "RNN+Olympics.ipynb",
      "provenance": []
    },
    "kernelspec": {
      "name": "python3",
      "display_name": "Python 3"
    },
    "language_info": {
      "name": "python"
    }
  },
  "cells": [
    {
      "cell_type": "code",
      "metadata": {
        "id": "onxAT-M_r-gf"
      },
      "source": [
        "import numpy as np\n",
        "import pandas as pd\n",
        "import matplotlib.pyplot as plt\n",
        "import seaborn as sns"
      ],
      "execution_count": 1,
      "outputs": []
    },
    {
      "cell_type": "code",
      "metadata": {
        "colab": {
          "base_uri": "https://localhost:8080/",
          "height": 417
        },
        "id": "ZOQ_qdyquLxU",
        "outputId": "b807c752-591a-4abc-d205-2b1d5d29dfb8"
      },
      "source": [
        "df = pd.read_csv('Processed_Data.csv',lineterminator='\\n')\n",
        "df"
      ],
      "execution_count": 3,
      "outputs": [
        {
          "output_type": "execute_result",
          "data": {
            "text/html": [
              "<div>\n",
              "<style scoped>\n",
              "    .dataframe tbody tr th:only-of-type {\n",
              "        vertical-align: middle;\n",
              "    }\n",
              "\n",
              "    .dataframe tbody tr th {\n",
              "        vertical-align: top;\n",
              "    }\n",
              "\n",
              "    .dataframe thead th {\n",
              "        text-align: right;\n",
              "    }\n",
              "</style>\n",
              "<table border=\"1\" class=\"dataframe\">\n",
              "  <thead>\n",
              "    <tr style=\"text-align: right;\">\n",
              "      <th></th>\n",
              "      <th>Unnamed: 0</th>\n",
              "      <th>topic</th>\n",
              "      <th>tweet</th>\n",
              "      <th>sentiment</th>\n",
              "      <th>class</th>\n",
              "      <th>processed_tweets</th>\n",
              "    </tr>\n",
              "  </thead>\n",
              "  <tbody>\n",
              "    <tr>\n",
              "      <th>0</th>\n",
              "      <td>0</td>\n",
              "      <td>#olympics</td>\n",
              "      <td>Aussies would be happy that the T20 series hap...</td>\n",
              "      <td>0.275000</td>\n",
              "      <td>Positive</td>\n",
              "      <td>aussie would happy series happen midst olympic...</td>\n",
              "    </tr>\n",
              "    <tr>\n",
              "      <th>1</th>\n",
              "      <td>1</td>\n",
              "      <td>#olympics</td>\n",
              "      <td>The worst thing about the #Olympics finishing ...</td>\n",
              "      <td>-0.133333</td>\n",
              "      <td>Negative</td>\n",
              "      <td>worst thing olympics finish whole week availab...</td>\n",
              "    </tr>\n",
              "    <tr>\n",
              "      <th>2</th>\n",
              "      <td>2</td>\n",
              "      <td>#olympics</td>\n",
              "      <td>#Olympics\\n\\nWe play for India: #Hockey captai...</td>\n",
              "      <td>0.000000</td>\n",
              "      <td>Neutral</td>\n",
              "      <td>olympics play india hockey captain ranirampal ...</td>\n",
              "    </tr>\n",
              "    <tr>\n",
              "      <th>3</th>\n",
              "      <td>3</td>\n",
              "      <td>#olympics</td>\n",
              "      <td>See the best moments from the #Tokyo2020 closi...</td>\n",
              "      <td>1.000000</td>\n",
              "      <td>Positive</td>\n",
              "      <td>see best moment tokyo close ceremony videoelep...</td>\n",
              "    </tr>\n",
              "    <tr>\n",
              "      <th>4</th>\n",
              "      <td>4</td>\n",
              "      <td>#olympics</td>\n",
              "      <td>Fabulous! #Olympics \\n#LoveTheBBC \\n\\nTokyo Ol...</td>\n",
              "      <td>0.500000</td>\n",
              "      <td>Positive</td>\n",
              "      <td>fabulous olympics lovethebbc tokyo olympics bb...</td>\n",
              "    </tr>\n",
              "    <tr>\n",
              "      <th>...</th>\n",
              "      <td>...</td>\n",
              "      <td>...</td>\n",
              "      <td>...</td>\n",
              "      <td>...</td>\n",
              "      <td>...</td>\n",
              "      <td>...</td>\n",
              "    </tr>\n",
              "    <tr>\n",
              "      <th>140242</th>\n",
              "      <td>140242</td>\n",
              "      <td>Tokyo olympics</td>\n",
              "      <td>Congratulations to all our winners and partici...</td>\n",
              "      <td>0.500000</td>\n",
              "      <td>Positive</td>\n",
              "      <td>congratulation winner participant olympics win...</td>\n",
              "    </tr>\n",
              "    <tr>\n",
              "      <th>140243</th>\n",
              "      <td>140243</td>\n",
              "      <td>Tokyo olympics</td>\n",
              "      <td>I hope that I am wrong but I have seen no twee...</td>\n",
              "      <td>-0.500000</td>\n",
              "      <td>Negative</td>\n",
              "      <td>hope wrong see tweet government</td>\n",
              "    </tr>\n",
              "    <tr>\n",
              "      <th>140244</th>\n",
              "      <td>140244</td>\n",
              "      <td>Tokyo olympics</td>\n",
              "      <td>Tokyo passes the baton to Paris as strangest e...</td>\n",
              "      <td>0.000000</td>\n",
              "      <td>Neutral</td>\n",
              "      <td>tokyo pass baton paris strangest ever olympic ...</td>\n",
              "    </tr>\n",
              "    <tr>\n",
              "      <th>140245</th>\n",
              "      <td>140245</td>\n",
              "      <td>Tokyo olympics</td>\n",
              "      <td>Paris plans to deliver inclusive, youth-centre...</td>\n",
              "      <td>0.000000</td>\n",
              "      <td>Neutral</td>\n",
              "      <td>paris plan deliver inclusive youth centre gend...</td>\n",
              "    </tr>\n",
              "    <tr>\n",
              "      <th>140246</th>\n",
              "      <td>140246</td>\n",
              "      <td>Tokyo olympics</td>\n",
              "      <td>Tokyo Games could yet have positive legacy des...</td>\n",
              "      <td>0.413636</td>\n",
              "      <td>Positive</td>\n",
              "      <td>tokyo game could yet positive legacy despite u...</td>\n",
              "    </tr>\n",
              "  </tbody>\n",
              "</table>\n",
              "<p>140247 rows × 6 columns</p>\n",
              "</div>"
            ],
            "text/plain": [
              "        Unnamed: 0  ...                                   processed_tweets\n",
              "0                0  ...  aussie would happy series happen midst olympic...\n",
              "1                1  ...  worst thing olympics finish whole week availab...\n",
              "2                2  ...  olympics play india hockey captain ranirampal ...\n",
              "3                3  ...  see best moment tokyo close ceremony videoelep...\n",
              "4                4  ...  fabulous olympics lovethebbc tokyo olympics bb...\n",
              "...            ...  ...                                                ...\n",
              "140242      140242  ...  congratulation winner participant olympics win...\n",
              "140243      140243  ...                    hope wrong see tweet government\n",
              "140244      140244  ...  tokyo pass baton paris strangest ever olympic ...\n",
              "140245      140245  ...  paris plan deliver inclusive youth centre gend...\n",
              "140246      140246  ...  tokyo game could yet positive legacy despite u...\n",
              "\n",
              "[140247 rows x 6 columns]"
            ]
          },
          "metadata": {
            "tags": []
          },
          "execution_count": 3
        }
      ]
    },
    {
      "cell_type": "code",
      "metadata": {
        "id": "dWkrGT2fdU1R"
      },
      "source": [
        "def ratio(x):\n",
        "  if x=='Positive':\n",
        "    return 1\n",
        "  elif x=='Negative':\n",
        "    return 2\n",
        "  else:\n",
        "    return 0;"
      ],
      "execution_count": 27,
      "outputs": []
    },
    {
      "cell_type": "code",
      "metadata": {
        "colab": {
          "base_uri": "https://localhost:8080/",
          "height": 568
        },
        "id": "gp3vcO67dmmw",
        "outputId": "c0484291-fb3d-4fed-b463-b42e2aad9311"
      },
      "source": [
        "df['label'] = df['class'].apply(ratio)\n",
        "df"
      ],
      "execution_count": 28,
      "outputs": [
        {
          "output_type": "execute_result",
          "data": {
            "text/html": [
              "<div>\n",
              "<style scoped>\n",
              "    .dataframe tbody tr th:only-of-type {\n",
              "        vertical-align: middle;\n",
              "    }\n",
              "\n",
              "    .dataframe tbody tr th {\n",
              "        vertical-align: top;\n",
              "    }\n",
              "\n",
              "    .dataframe thead th {\n",
              "        text-align: right;\n",
              "    }\n",
              "</style>\n",
              "<table border=\"1\" class=\"dataframe\">\n",
              "  <thead>\n",
              "    <tr style=\"text-align: right;\">\n",
              "      <th></th>\n",
              "      <th>Unnamed: 0</th>\n",
              "      <th>topic</th>\n",
              "      <th>tweet</th>\n",
              "      <th>sentiment</th>\n",
              "      <th>class</th>\n",
              "      <th>processed_tweets</th>\n",
              "      <th>label</th>\n",
              "    </tr>\n",
              "  </thead>\n",
              "  <tbody>\n",
              "    <tr>\n",
              "      <th>0</th>\n",
              "      <td>0</td>\n",
              "      <td>#olympics</td>\n",
              "      <td>Aussies would be happy that the T20 series hap...</td>\n",
              "      <td>0.275000</td>\n",
              "      <td>Positive</td>\n",
              "      <td>aussie would happy series happen midst olympic...</td>\n",
              "      <td>1</td>\n",
              "    </tr>\n",
              "    <tr>\n",
              "      <th>1</th>\n",
              "      <td>1</td>\n",
              "      <td>#olympics</td>\n",
              "      <td>The worst thing about the #Olympics finishing ...</td>\n",
              "      <td>-0.133333</td>\n",
              "      <td>Negative</td>\n",
              "      <td>worst thing olympics finish whole week availab...</td>\n",
              "      <td>2</td>\n",
              "    </tr>\n",
              "    <tr>\n",
              "      <th>2</th>\n",
              "      <td>2</td>\n",
              "      <td>#olympics</td>\n",
              "      <td>#Olympics\\n\\nWe play for India: #Hockey captai...</td>\n",
              "      <td>0.000000</td>\n",
              "      <td>Neutral</td>\n",
              "      <td>olympics play india hockey captain ranirampal ...</td>\n",
              "      <td>0</td>\n",
              "    </tr>\n",
              "    <tr>\n",
              "      <th>3</th>\n",
              "      <td>3</td>\n",
              "      <td>#olympics</td>\n",
              "      <td>See the best moments from the #Tokyo2020 closi...</td>\n",
              "      <td>1.000000</td>\n",
              "      <td>Positive</td>\n",
              "      <td>see best moment tokyo close ceremony videoelep...</td>\n",
              "      <td>1</td>\n",
              "    </tr>\n",
              "    <tr>\n",
              "      <th>4</th>\n",
              "      <td>4</td>\n",
              "      <td>#olympics</td>\n",
              "      <td>Fabulous! #Olympics \\n#LoveTheBBC \\n\\nTokyo Ol...</td>\n",
              "      <td>0.500000</td>\n",
              "      <td>Positive</td>\n",
              "      <td>fabulous olympics lovethebbc tokyo olympics bb...</td>\n",
              "      <td>1</td>\n",
              "    </tr>\n",
              "    <tr>\n",
              "      <th>...</th>\n",
              "      <td>...</td>\n",
              "      <td>...</td>\n",
              "      <td>...</td>\n",
              "      <td>...</td>\n",
              "      <td>...</td>\n",
              "      <td>...</td>\n",
              "      <td>...</td>\n",
              "    </tr>\n",
              "    <tr>\n",
              "      <th>140242</th>\n",
              "      <td>140242</td>\n",
              "      <td>Tokyo olympics</td>\n",
              "      <td>Congratulations to all our winners and partici...</td>\n",
              "      <td>0.500000</td>\n",
              "      <td>Positive</td>\n",
              "      <td>congratulation winner participant olympics win...</td>\n",
              "      <td>1</td>\n",
              "    </tr>\n",
              "    <tr>\n",
              "      <th>140243</th>\n",
              "      <td>140243</td>\n",
              "      <td>Tokyo olympics</td>\n",
              "      <td>I hope that I am wrong but I have seen no twee...</td>\n",
              "      <td>-0.500000</td>\n",
              "      <td>Negative</td>\n",
              "      <td>hope wrong see tweet government</td>\n",
              "      <td>2</td>\n",
              "    </tr>\n",
              "    <tr>\n",
              "      <th>140244</th>\n",
              "      <td>140244</td>\n",
              "      <td>Tokyo olympics</td>\n",
              "      <td>Tokyo passes the baton to Paris as strangest e...</td>\n",
              "      <td>0.000000</td>\n",
              "      <td>Neutral</td>\n",
              "      <td>tokyo pass baton paris strangest ever olympic ...</td>\n",
              "      <td>0</td>\n",
              "    </tr>\n",
              "    <tr>\n",
              "      <th>140245</th>\n",
              "      <td>140245</td>\n",
              "      <td>Tokyo olympics</td>\n",
              "      <td>Paris plans to deliver inclusive, youth-centre...</td>\n",
              "      <td>0.000000</td>\n",
              "      <td>Neutral</td>\n",
              "      <td>paris plan deliver inclusive youth centre gend...</td>\n",
              "      <td>0</td>\n",
              "    </tr>\n",
              "    <tr>\n",
              "      <th>140246</th>\n",
              "      <td>140246</td>\n",
              "      <td>Tokyo olympics</td>\n",
              "      <td>Tokyo Games could yet have positive legacy des...</td>\n",
              "      <td>0.413636</td>\n",
              "      <td>Positive</td>\n",
              "      <td>tokyo game could yet positive legacy despite u...</td>\n",
              "      <td>1</td>\n",
              "    </tr>\n",
              "  </tbody>\n",
              "</table>\n",
              "<p>140247 rows × 7 columns</p>\n",
              "</div>"
            ],
            "text/plain": [
              "        Unnamed: 0  ... label\n",
              "0                0  ...     1\n",
              "1                1  ...     2\n",
              "2                2  ...     0\n",
              "3                3  ...     1\n",
              "4                4  ...     1\n",
              "...            ...  ...   ...\n",
              "140242      140242  ...     1\n",
              "140243      140243  ...     2\n",
              "140244      140244  ...     0\n",
              "140245      140245  ...     0\n",
              "140246      140246  ...     1\n",
              "\n",
              "[140247 rows x 7 columns]"
            ]
          },
          "metadata": {
            "tags": []
          },
          "execution_count": 28
        }
      ]
    },
    {
      "cell_type": "code",
      "metadata": {
        "id": "IiBCDiDDZ5wV"
      },
      "source": [
        "from keras.preprocessing.text import Tokenizer\n",
        "from keras.preprocessing.sequence import pad_sequences"
      ],
      "execution_count": 29,
      "outputs": []
    },
    {
      "cell_type": "code",
      "metadata": {
        "id": "eicgJ5wbanHI"
      },
      "source": [
        "df['processed_tweets'] = df['processed_tweets'].astype(str)"
      ],
      "execution_count": 30,
      "outputs": []
    },
    {
      "cell_type": "code",
      "metadata": {
        "id": "HCtM5DRhaGcv"
      },
      "source": [
        "\n",
        "x = df['processed_tweets']\n",
        "y = df['label']"
      ],
      "execution_count": 31,
      "outputs": []
    },
    {
      "cell_type": "code",
      "metadata": {
        "colab": {
          "base_uri": "https://localhost:8080/"
        },
        "id": "2z8hd43cahZp",
        "outputId": "624aea74-fc8f-4174-de26-c303362c275c"
      },
      "source": [
        "num_words = 8000\n",
        "embed_dim = 32\n",
        "tokenizer = Tokenizer(num_words=num_words,oov_token = \"<oov>\" )\n",
        "tokenizer.fit_on_texts(x)\n",
        "word_index=tokenizer.word_index\n",
        "sequences = tokenizer.texts_to_sequences(x)\n",
        "length=[]\n",
        "for i in sequences:\n",
        "    length.append(len(i))\n",
        "print(len(length))\n",
        "print(\"Mean is: \",np.mean(length))\n",
        "print(\"Max is: \",np.max(length))\n",
        "print(\"Min is: \",np.min(length))"
      ],
      "execution_count": 32,
      "outputs": [
        {
          "output_type": "stream",
          "text": [
            "140247\n",
            "Mean is:  9.267485222500303\n",
            "Max is:  24\n",
            "Min is:  1\n"
          ],
          "name": "stdout"
        }
      ]
    },
    {
      "cell_type": "code",
      "metadata": {
        "colab": {
          "base_uri": "https://localhost:8080/"
        },
        "id": "FvjQoFZGayp3",
        "outputId": "bc9b2103-93df-4a05-f6c0-2812d997eb5c"
      },
      "source": [
        "pad_length = 24\n",
        "sequences = pad_sequences(sequences, maxlen = pad_length, truncating = 'pre', padding = 'post')\n",
        "sequences.shape"
      ],
      "execution_count": 33,
      "outputs": [
        {
          "output_type": "execute_result",
          "data": {
            "text/plain": [
              "(140247, 24)"
            ]
          },
          "metadata": {
            "tags": []
          },
          "execution_count": 33
        }
      ]
    },
    {
      "cell_type": "code",
      "metadata": {
        "id": "5h7eKq8ta3ih"
      },
      "source": [
        "from sklearn.model_selection import train_test_split as tts\n",
        "from sklearn.metrics import confusion_matrix, accuracy_score"
      ],
      "execution_count": 34,
      "outputs": []
    },
    {
      "cell_type": "code",
      "metadata": {
        "colab": {
          "base_uri": "https://localhost:8080/"
        },
        "id": "ur1oNMw7az-_",
        "outputId": "88ee4079-edf5-44d8-ab4c-48ceb8dd2da0"
      },
      "source": [
        "x_train,x_test,y_train,y_test = tts(sequences,y,test_size = 0.05)\n",
        "print(x_train.shape)\n",
        "print(x_test.shape)\n",
        "print(y_train.shape)\n",
        "print(y_test.shape)"
      ],
      "execution_count": 36,
      "outputs": [
        {
          "output_type": "stream",
          "text": [
            "(133234, 24)\n",
            "(7013, 24)\n",
            "(133234,)\n",
            "(7013,)\n"
          ],
          "name": "stdout"
        }
      ]
    },
    {
      "cell_type": "code",
      "metadata": {
        "id": "0iZ1ksrma72P"
      },
      "source": [
        "from keras.layers import Dense, Embedding, Dropout , Activation, Flatten, SimpleRNN\n",
        "from keras.layers import GlobalMaxPool1D\n",
        "from keras.models import Model, Sequential\n",
        "import tensorflow as tf"
      ],
      "execution_count": 37,
      "outputs": []
    },
    {
      "cell_type": "code",
      "metadata": {
        "colab": {
          "base_uri": "https://localhost:8080/"
        },
        "id": "aojQMnnZa_ef",
        "outputId": "9de48e62-5755-4001-e3ea-90093d14ddbe"
      },
      "source": [
        "recall = tf.keras.metrics.Recall()\n",
        "precision = tf.keras.metrics.Precision()\n",
        "\n",
        "model = Sequential([Embedding(num_words, embed_dim, input_length = pad_length),\n",
        "                   SimpleRNN(8, return_sequences = True),\n",
        "                   GlobalMaxPool1D(),\n",
        "                   Dense(20,activation = 'relu',kernel_initializer='he_uniform'),\n",
        "                   Dropout(0.25),\n",
        "                   Dense(3,activation = 'softmax')])\n",
        "model.compile(loss='sparse_categorical_crossentropy', optimizer='adam', metrics=['accuracy'])\n",
        "model.summary()"
      ],
      "execution_count": 38,
      "outputs": [
        {
          "output_type": "stream",
          "text": [
            "Model: \"sequential_2\"\n",
            "_________________________________________________________________\n",
            "Layer (type)                 Output Shape              Param #   \n",
            "=================================================================\n",
            "embedding_2 (Embedding)      (None, 24, 32)            256000    \n",
            "_________________________________________________________________\n",
            "simple_rnn_2 (SimpleRNN)     (None, 24, 8)             328       \n",
            "_________________________________________________________________\n",
            "global_max_pooling1d_2 (Glob (None, 8)                 0         \n",
            "_________________________________________________________________\n",
            "dense_4 (Dense)              (None, 20)                180       \n",
            "_________________________________________________________________\n",
            "dropout_2 (Dropout)          (None, 20)                0         \n",
            "_________________________________________________________________\n",
            "dense_5 (Dense)              (None, 3)                 63        \n",
            "=================================================================\n",
            "Total params: 256,571\n",
            "Trainable params: 256,571\n",
            "Non-trainable params: 0\n",
            "_________________________________________________________________\n"
          ],
          "name": "stdout"
        }
      ]
    },
    {
      "cell_type": "code",
      "metadata": {
        "colab": {
          "base_uri": "https://localhost:8080/"
        },
        "id": "EQeHiv0qck_w",
        "outputId": "a2975096-430c-4994-f6ec-228c1cc41d76"
      },
      "source": [
        "history = model.fit(x = x_train, y = y_train, epochs = 10,validation_split = 0.05)"
      ],
      "execution_count": 39,
      "outputs": [
        {
          "output_type": "stream",
          "text": [
            "Epoch 1/10\n",
            "3956/3956 [==============================] - 39s 10ms/step - loss: 0.4874 - accuracy: 0.8237 - val_loss: 0.3134 - val_accuracy: 0.8996\n",
            "Epoch 2/10\n",
            "3956/3956 [==============================] - 38s 10ms/step - loss: 0.2973 - accuracy: 0.9077 - val_loss: 0.2994 - val_accuracy: 0.9045\n",
            "Epoch 3/10\n",
            "3956/3956 [==============================] - 37s 9ms/step - loss: 0.2582 - accuracy: 0.9200 - val_loss: 0.2887 - val_accuracy: 0.9099\n",
            "Epoch 4/10\n",
            "3956/3956 [==============================] - 38s 10ms/step - loss: 0.2328 - accuracy: 0.9286 - val_loss: 0.2937 - val_accuracy: 0.9095\n",
            "Epoch 5/10\n",
            "3956/3956 [==============================] - 38s 10ms/step - loss: 0.2138 - accuracy: 0.9341 - val_loss: 0.2919 - val_accuracy: 0.9113\n",
            "Epoch 6/10\n",
            "3956/3956 [==============================] - 38s 10ms/step - loss: 0.2003 - accuracy: 0.9386 - val_loss: 0.3008 - val_accuracy: 0.9087\n",
            "Epoch 7/10\n",
            "3956/3956 [==============================] - 38s 10ms/step - loss: 0.1878 - accuracy: 0.9421 - val_loss: 0.3160 - val_accuracy: 0.9066\n",
            "Epoch 8/10\n",
            "3956/3956 [==============================] - 39s 10ms/step - loss: 0.1786 - accuracy: 0.9451 - val_loss: 0.3211 - val_accuracy: 0.9057\n",
            "Epoch 9/10\n",
            "3956/3956 [==============================] - 38s 10ms/step - loss: 0.1685 - accuracy: 0.9486 - val_loss: 0.3227 - val_accuracy: 0.9053\n",
            "Epoch 10/10\n",
            "3956/3956 [==============================] - 38s 10ms/step - loss: 0.1621 - accuracy: 0.9505 - val_loss: 0.3288 - val_accuracy: 0.9053\n"
          ],
          "name": "stdout"
        }
      ]
    },
    {
      "cell_type": "code",
      "metadata": {
        "id": "uweRol23hhvK"
      },
      "source": [
        "train_acc = history.history['accuracy']\n",
        "valid_acc = history.history['val_accuracy']\n",
        "train_loss = history.history['loss']\n",
        "val_loss = history.history['val_loss']"
      ],
      "execution_count": 40,
      "outputs": []
    },
    {
      "cell_type": "code",
      "metadata": {
        "id": "o6BJ_-hnhlXo"
      },
      "source": [
        "predictions = model.predict(x_test)\n",
        "predict = []\n",
        "for i in predictions:\n",
        "    predict.append(np.argmax(i))"
      ],
      "execution_count": 41,
      "outputs": []
    },
    {
      "cell_type": "code",
      "metadata": {
        "colab": {
          "base_uri": "https://localhost:8080/"
        },
        "id": "IDUa97HShmT8",
        "outputId": "3ab8f6d8-8871-4eb9-8a2a-80ea3ad42627"
      },
      "source": [
        "from sklearn import metrics\n",
        "\n",
        "print(metrics.classification_report(y_test, predict))"
      ],
      "execution_count": 42,
      "outputs": [
        {
          "output_type": "stream",
          "text": [
            "              precision    recall  f1-score   support\n",
            "\n",
            "           0       0.91      0.91      0.91      2880\n",
            "           1       0.92      0.93      0.93      3409\n",
            "           2       0.80      0.76      0.78       724\n",
            "\n",
            "    accuracy                           0.91      7013\n",
            "   macro avg       0.88      0.87      0.87      7013\n",
            "weighted avg       0.91      0.91      0.91      7013\n",
            "\n"
          ],
          "name": "stdout"
        }
      ]
    }
  ]
}